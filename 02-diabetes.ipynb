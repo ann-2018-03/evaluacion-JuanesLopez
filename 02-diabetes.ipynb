{
 "cells": [
  {
   "cell_type": "markdown",
   "metadata": {
    "colab": {},
    "colab_type": "code",
    "id": "n3lnWjvI83ix"
   },
   "source": [
    "# Pronóstico de la evolución de pacientes con diabetes"
   ]
  },
  {
   "cell_type": "markdown",
   "metadata": {},
   "source": [
    "## Descripción del problema real"
   ]
  },
  {
   "cell_type": "markdown",
   "metadata": {},
   "source": [
    "Los tratamientos médicos están basados en las expectativas de recuperación o el avance de una enfermedad para tomar decisiones. En este caso, un equipo médico desea contar con pronósticos de pacientes con diabetes para tomar decisiones sobre su tratamiento."
   ]
  },
  {
   "cell_type": "markdown",
   "metadata": {},
   "source": [
    "## Descripción del problema en términos de los datos"
   ]
  },
  {
   "cell_type": "markdown",
   "metadata": {},
   "source": [
    "Se desea determinar el progreso de la diabeteis un año hacia adelante a partir de las variables medidas para 442 pacientes. La información está almacenada en el archivo `datos/diabetes.csv`. Las variables medidas son: edad, sexo, indice de masa corporal, presión sanguinea y seis medidas de serum en la sangre. Se desea pronósticar el progreso de la enfermedad a partir de las variables dadas."
   ]
  },
  {
   "cell_type": "markdown",
   "metadata": {},
   "source": [
    "## Aproximaciones posibles"
   ]
  },
  {
   "cell_type": "markdown",
   "metadata": {},
   "source": [
    "En este caso, se desea comparar los resultados de un modelo de regresión lineal y un modelo de redes neuronales artificiales."
   ]
  },
  {
   "cell_type": "markdown",
   "metadata": {},
   "source": [
    "## Requerimientos"
   ]
  },
  {
   "cell_type": "markdown",
   "metadata": {},
   "source": [
    "Usted debe:\n",
    "\n",
    "* Determinar cuáles de las variables consideradas son relevantes para el problema.\n",
    "\n",
    "\n",
    "* Determinar si hay alguna transformación de las variables de entrada o de salida que mejore el pronóstico del modelo.\n",
    "\n",
    "\n",
    "* Construir un modelo de regresión lineal que sirva como base para construir un modelo de redes neuronales artificiales.\n",
    "\n",
    "\n",
    "\n",
    "* Construir un modelo de redes neuronales artificiales. Asimismo, debe determinar el número de neuronas en la capa o capas ocultas.\n",
    "\n",
    "\n",
    "* Utiizar una técnica como crossvalidation u otra similar para establecer la robustez del modelo."
   ]
  },
  {
   "cell_type": "markdown",
   "metadata": {},
   "source": [
    "# Respuesta:"
   ]
  },
  {
   "cell_type": "code",
   "execution_count": null,
   "metadata": {},
   "outputs": [],
   "source": [
    "import pandas as pd\n",
    "import numpy as np\n",
    "import matplotlib.pyplot as plt"
   ]
  },
  {
   "cell_type": "markdown",
   "metadata": {},
   "source": [
    "## Lectura de datos"
   ]
  },
  {
   "cell_type": "code",
   "execution_count": null,
   "metadata": {},
   "outputs": [],
   "source": [
    "diabetes = pd.read_csv('datos/diabetes.csv')"
   ]
  },
  {
   "cell_type": "markdown",
   "metadata": {},
   "source": [
    "Ahora que los datos han sido leidos necesitamos saber que variables son significativas y cuales no, para lo cual debemos hacer una correlacion entre las variables."
   ]
  },
  {
   "cell_type": "code",
   "execution_count": null,
   "metadata": {},
   "outputs": [],
   "source": [
    "corr = diabetes.corr()\n",
    "corr"
   ]
  },
  {
   "cell_type": "markdown",
   "metadata": {},
   "source": [
    "Ahora veamos la correlación de manera grafica"
   ]
  },
  {
   "cell_type": "code",
   "execution_count": null,
   "metadata": {},
   "outputs": [],
   "source": [
    "fig = plt.figure()\n",
    "ax = fig.add_subplot(111)\n",
    "cax = ax.matshow(corr,cmap='coolwarm', vmin=-1,vmax =1)\n",
    "fig.colorbar(cax)\n",
    "ticks = np.arange(0,len(diabetes.columns),1)\n",
    "ax.set_xticks(ticks)\n",
    "plt.xticks(rotation=90)\n",
    "ax.set_yticks(ticks)\n",
    "ax.set_xticklabels(diabetes.columns)\n",
    "ax.set_yticklabels(diabetes.columns)\n",
    "plt.show()"
   ]
  },
  {
   "cell_type": "markdown",
   "metadata": {},
   "source": [
    "Tanto en la grafica como en la tabla podemos ver que las variables s1 y s2 estan altamente correlacionadas, por lo cual podemos eliminar una de estas sin perder demasiada información.\n",
    "\n",
    "Para determinar cual eliminar hacemos un grafico de importancia usando la recursive feature elimination."
   ]
  },
  {
   "cell_type": "code",
   "execution_count": null,
   "metadata": {},
   "outputs": [],
   "source": [
    "from sklearn.feature_selection import RFE\n",
    "from sklearn.linear_model import LogisticRegression\n",
    "\n",
    "diabetes_data = diabetes.drop(['Y'],axis=1)\n",
    "diabetes_target = diabetes[['Y']]\n",
    "\n",
    "model = LogisticRegression()\n",
    "rfe = RFE(model,9)\n",
    "rfe = rfe.fit(diabetes_data,diabetes_target)\n",
    "\n",
    "plt_importances = pd.Series(rfe.ranking_, index = diabetes_data.columns)\n",
    "plt_importances.nlargest(10).plot(kind='barh')\n",
    "plt.show()"
   ]
  },
  {
   "cell_type": "markdown",
   "metadata": {},
   "source": [
    "En la grafica anterior podemos ver que la variable s2 es la menos importante de todas las variables por lo cual sera esta la que salga del modelo."
   ]
  },
  {
   "cell_type": "code",
   "execution_count": null,
   "metadata": {},
   "outputs": [],
   "source": [
    "diabetes_data = diabetes.drop(['s2','Y'],axis=1)\n",
    "diabetes_data.head()"
   ]
  },
  {
   "cell_type": "markdown",
   "metadata": {},
   "source": [
    "## Modelo lineal\n",
    "Ya con el dataset depurado, procedemos a hacer el modelo de regresión linear, adicional a este veremos si al aplicar alguna transformacion lineal el modelo se optimiza\n",
    "\n",
    "### Sin transformación"
   ]
  },
  {
   "cell_type": "code",
   "execution_count": null,
   "metadata": {},
   "outputs": [],
   "source": [
    "from sklearn import linear_model\n",
    "from sklearn.model_selection import train_test_split\n",
    "from sklearn import metrics\n",
    "\n",
    "data_train, data_test, target_train, target_test = train_test_split(diabetes_data,diabetes_target, test_size=0.30)\n",
    "\n",
    "linearModel = linear_model.LinearRegression()\n",
    "linearModel.fit(data_train,target_train)\n",
    "\n",
    "Linear_predictions = linearModel.predict(data_test)\n",
    "print('Metricas modelo sin transfromacion')\n",
    "print('Error absoluto de la media:', metrics.mean_absolute_error(target_test,Linear_predictions))\n",
    "print('Error cuadratico de la media:', metrics.mean_squared_error(target_test,Linear_predictions))\n",
    "print('Error cuadratico de la respuesta:', np.sqrt(metrics.mean_squared_error(target_test,Linear_predictions)))"
   ]
  },
  {
   "cell_type": "markdown",
   "metadata": {},
   "source": [
    "### Transformación cuadratica"
   ]
  },
  {
   "cell_type": "code",
   "execution_count": null,
   "metadata": {},
   "outputs": [],
   "source": [
    "squareTransform = lambda x:x**2\n",
    "\n",
    "dataFrameTransformed = diabetes_data.apply(squareTransform)\n",
    "targetTransformed = diabetes_target.apply(squareTransform)\n",
    "\n",
    "data_train, data_test, target_train, target_test = train_test_split(dataFrameTransformed,targetTransformed, test_size=0.30)\n",
    "\n",
    "linearModel = linear_model.LinearRegression()\n",
    "model = linearModel.fit(data_train,target_train)\n",
    "\n",
    "predictions = linearModel.predict(data_test)\n",
    "print('Metricas modelo con transfromacion')\n",
    "print('Error absoluto de la media:', metrics.mean_absolute_error(target_test,predictions))\n",
    "print('Error cuadratico de la media:', metrics.mean_squared_error(target_test,predictions))\n",
    "print('Error cuadratico de la respuesta:', np.sqrt(metrics.mean_squared_error(target_test,predictions)))"
   ]
  },
  {
   "cell_type": "markdown",
   "metadata": {},
   "source": [
    "### Transformación cúbica"
   ]
  },
  {
   "cell_type": "code",
   "execution_count": null,
   "metadata": {},
   "outputs": [],
   "source": [
    "cubicTransform = lambda x:x**3\n",
    "\n",
    "dataFrameTransformed = diabetes_data.apply(cubicTransform)\n",
    "targetTransformed = diabetes_target.apply(cubicTransform)\n",
    "\n",
    "data_train, data_test, target_train, target_test = train_test_split(dataFrameTransformed,targetTransformed, test_size=0.30)\n",
    "\n",
    "linearModel = linear_model.LinearRegression()\n",
    "model = linearModel.fit(data_train,target_train)\n",
    "\n",
    "predictions = linearModel.predict(data_test)\n",
    "print('Metricas modelo con transfromacion')\n",
    "print('Error absoluto de la media:', metrics.mean_absolute_error(target_test,predictions))\n",
    "print('Error cuadratico de la media:', metrics.mean_squared_error(target_test,predictions))\n",
    "print('Error cuadratico de la respuesta:', np.sqrt(metrics.mean_squared_error(target_test,predictions)))"
   ]
  },
  {
   "cell_type": "markdown",
   "metadata": {},
   "source": [
    "### Transformación exponencial"
   ]
  },
  {
   "cell_type": "code",
   "execution_count": null,
   "metadata": {},
   "outputs": [],
   "source": [
    "exponentialTransform = lambda x:np.exp(x)\n",
    "\n",
    "dataFrameTransformed = diabetes_data.apply(exponentialTransform)\n",
    "targetTransformed = diabetes_target.apply(exponentialTransform)\n",
    "\n",
    "data_train, data_test, target_train, target_test = train_test_split(dataFrameTransformed,targetTransformed, test_size=0.30)\n",
    "\n",
    "linearModel = linear_model.LinearRegression()\n",
    "model = linearModel.fit(data_train,target_train)\n",
    "\n",
    "predictions = linearModel.predict(data_test)\n",
    "print('Metricas modelo con transfromacion')\n",
    "print('Error absoluto de la media:', metrics.mean_absolute_error(target_test,predictions))\n",
    "print('Error cuadratico de la media:', metrics.mean_squared_error(target_test,predictions))\n",
    "print('Error cuadratico de la respuesta:', np.sqrt(metrics.mean_squared_error(target_test,predictions)))"
   ]
  },
  {
   "cell_type": "markdown",
   "metadata": {},
   "source": [
    "### Resultado:"
   ]
  },
  {
   "cell_type": "markdown",
   "metadata": {},
   "source": [
    "## Red neuronal"
   ]
  },
  {
   "cell_type": "code",
   "execution_count": null,
   "metadata": {},
   "outputs": [],
   "source": [
    "import tensorflow as tf\n",
    "import matplotlib.pyplot as plt\n",
    "import numpy as np\n",
    "\n",
    "data_train, data_test, target_train, target_test = train_test_split(diabetes_data,diabetes_target, test_size=0.30)\n",
    "\n",
    "history_nn = []\n",
    "\n",
    "neurons = [2,4,8,16,32,64]\n",
    "\n",
    "for h in neurons:\n",
    "\n",
    "    ## crea el modelo vacio\n",
    "    model = tf.keras.Sequential()\n",
    "\n",
    "    ## capa oculta\n",
    "    model.add(tf.keras.layers.Dense(h,                         # neuronas en la capa oculta\n",
    "                                    activation=tf.nn.relu,  # función de activación\n",
    "                                    input_shape = (9,)))       # una neurona de entrada\n",
    "\n",
    "    ## capa de salida\n",
    "    model.add(tf.keras.layers.Dense(1,                         # una neurona de salida\n",
    "                                    activation='linear')) # capa de salida\n",
    "\n",
    "    ## optimizacion usando gradiente\n",
    "    optimizer = tf.train.GradientDescentOptimizer(learning_rate=0.01)\n",
    "\n",
    "    ## crea el modelo\n",
    "    model.compile(optimizer=optimizer,     # optimizador\n",
    "                  loss='mse',              # función a minimizar\n",
    "                  metrics=['mse'])  # metricas a reportar\n",
    "\n",
    "    ## entrena el modelo y guarda\n",
    "    ## el reporte de entrenamiento\n",
    "    model.fit(data_train, target_train, epochs=5000, verbose=0)\n",
    "\n",
    "    ## error de entrenamiento\n",
    "    y = [u[0] for u in model.predict(data_test).tolist()]\n",
    "    history_nn.append(metrics.mean_squared_error(target_test,y))"
   ]
  },
  {
   "cell_type": "code",
   "execution_count": null,
   "metadata": {},
   "outputs": [],
   "source": [
    "plt.figure(figsize=(10,5))\n",
    "plt.xlabel('Neuronas')\n",
    "plt.plot(neurons, history_nn, 'ko-')\n",
    "plt.grid()"
   ]
  },
  {
   "cell_type": "markdown",
   "metadata": {},
   "source": [
    "Se estima que con 7 u 8 neuronas el modelo puede hacer una prediccion acertada"
   ]
  },
  {
   "cell_type": "markdown",
   "metadata": {},
   "source": [
    "### Comparacion resultados"
   ]
  },
  {
   "cell_type": "code",
   "execution_count": null,
   "metadata": {},
   "outputs": [],
   "source": [
    "import pandas as pd\n",
    "import numpy as np\n",
    "import matplotlib.pyplot as plt\n",
    "from sklearn.feature_selection import RFE\n",
    "from sklearn.linear_model import LogisticRegression\n",
    "from sklearn.model_selection import train_test_split\n",
    "\n",
    "diabetes = pd.read_csv('datos/diabetes.csv')\n",
    "\n",
    "diabetes_data = diabetes.drop(['s2','Y'],axis=1)\n",
    "diabetes_target = diabetes[['Y']]\n",
    "data_train, data_test, target_train, target_test = train_test_split(diabetes_data,diabetes_target, test_size=0.30)\n",
    "\n",
    "from sklearn import linear_model\n",
    "from sklearn import metrics\n",
    "\n",
    "linearModel = linear_model.LinearRegression()\n",
    "linearModel.fit(data_train,target_train)\n",
    "\n",
    "linearPredictions = linearModel.predict(data_test)\n",
    "\n",
    "import tensorflow as tf\n",
    "import matplotlib.pyplot as plt\n",
    "import numpy as np\n",
    "## crea el modelo vacio\n",
    "model = tf.keras.Sequential()\n",
    "\n",
    "## capa oculta\n",
    "model.add(tf.keras.layers.Dense(8,                   # neuronas en la capa oculta\n",
    "                                activation=tf.nn.relu, # función de activación\n",
    "                                input_shape = (9,)))    # una neurona de entrada\n",
    "\n",
    "## capa de salida\n",
    "model.add(tf.keras.layers.Dense(1,                   # una neurona de salida\n",
    "                                activation='linear')) # capa de salida\n",
    "\n",
    "## optimizacion usando gradiente\n",
    "optimizer = tf.train.GradientDescentOptimizer(learning_rate=0.01)\n",
    "\n",
    "## crea el modelo\n",
    "model.compile(optimizer=optimizer,     # optimizador\n",
    "                loss='mse',              # función a minimizar\n",
    "                metrics=['mse'])  # metricas a reportar\n",
    "\n",
    "## entrena el modelo y guarda\n",
    "## el reporte de entrenamiento\n",
    "model.fit(data_train, target_train, epochs=5000, verbose=0)\n",
    "\n",
    "neuralNetworkPredictions = model.predict(data_test)"
   ]
  },
  {
   "cell_type": "code",
   "execution_count": null,
   "metadata": {},
   "outputs": [],
   "source": [
    "print('sse linear:',metrics.mean_squared_error(target_test,linearPredictions))\n",
    "print('sse NN:',metrics.mean_squared_error(target_test,neuralNetworkPredictions))"
   ]
  }
 ],
 "metadata": {
  "colab": {
   "include_colab_link": true,
   "name": "Copia de Untitled3.ipynb",
   "provenance": [],
   "version": "0.3.2"
  },
  "kernelspec": {
   "display_name": "Python 3",
   "language": "python",
   "name": "python3"
  },
  "language_info": {
   "codemirror_mode": {
    "name": "ipython",
    "version": 3
   },
   "file_extension": ".py",
   "mimetype": "text/x-python",
   "name": "python",
   "nbconvert_exporter": "python",
   "pygments_lexer": "ipython3",
   "version": "3.7.3"
  }
 },
 "nbformat": 4,
 "nbformat_minor": 2
}
